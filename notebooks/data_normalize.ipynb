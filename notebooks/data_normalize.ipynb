{
 "cells": [
  {
   "cell_type": "code",
   "execution_count": 16,
   "id": "8871a3c6",
   "metadata": {},
   "outputs": [
    {
     "name": "stdout",
     "output_type": "stream",
     "text": [
      "Alle Dateien wurden nach ../data/datasets_vivid_virions kopiert.\n"
     ]
    }
   ],
   "source": [
    "import pandas as pd\n",
    "import os, re, glob\n",
    "from pathlib import Path\n",
    "import shutil\n",
    "\n",
    "\n",
    "def load_data(raw_count_file):\n",
    "    # Raw count matrix\n",
    "    count_data = pd.read_csv(raw_count_file, sep=\"\\t\", header=0)\n",
    "    return count_data\n",
    "\n",
    "\n",
    "def tpm_normalize(count_data):\n",
    "    # Get sample columns\n",
    "    sample_cols = [col for col in count_data.columns if re.match(r\"^\\d+_R\\d+$\", col)]\n",
    "\n",
    "    # Sum each sample column and divide by 1,000,000\n",
    "    sample_totals = count_data[sample_cols].sum().div(1000000)\n",
    "\n",
    "    # Divide each entry by its column total\n",
    "    count_data[sample_cols] = count_data[sample_cols].div(sample_totals)\n",
    "\n",
    "    return count_data\n",
    "\n",
    "\n",
    "def drop_host_data(count_data):\n",
    "    df_phage = df[df['Entity'] == 'phage'].copy()\n",
    "    return df_phage\n",
    "\n",
    "\n",
    "datasets = [\n",
    "    \"Yang\",\n",
    "    \"Sprenger_VC_WT_VP882_delta_cpdS\",\n",
    "    \"Lood\",\n",
    "    \"Guegler_T7_plusToxIN\",\n",
    "    \"Guegler_T4_minusToxIN\",\n",
    "    \"Finstrlova_Newman\",\n",
    "    \"Brandao_MCCM\"\n",
    "]\n",
    "\n",
    "tsv_dateien = []\n",
    "for ds in datasets:\n",
    "    pattern = f\"../data/**/{ds}_full_raw_counts.tsv\"\n",
    "    tsv_dateien.extend(glob.glob(pattern, recursive=True))\n",
    "\n",
    "zielordner = \"../data/datasets_vivid_virions\"\n",
    "os.makedirs(zielordner, exist_ok=True)\n",
    "\n",
    "for datei in tsv_dateien:\n",
    "    dateiname = os.path.basename(datei)\n",
    "    zielpfad = os.path.join(zielordner, dateiname)\n",
    "    try:\n",
    "        shutil.copy2(datei, zielpfad)\n",
    "    except PermissionError as e:\n",
    "        print(f\"Fehler beim Kopieren von {datei} nach {zielpfad}: {e}\")\n",
    "\n",
    "print(f\"Alle Dateien wurden nach {zielordner} kopiert.\")\n",
    "input_folder = Path(\"../data/datasets_vivid_virions\")\n",
    "output_folder = Path(\"../data/datasets_normalized\")\n",
    "output_folder.mkdir(exist_ok=True)\n",
    "\n",
    "for ds in input_folder.glob(\"*.tsv\"):\n",
    "    df = load_data(ds)\n",
    "    df_norm = tpm_normalize(df)\n",
    "    df_phage = drop_host_data(df_norm) \n",
    "\n",
    "    # Save to ../data/datasets_normalized\n",
    "    output_file = f\"{output_folder}/{ds.stem}_tpm.tsv\"\n",
    "    df_norm.to_csv(output_file, sep=\"\\t\", index=False)"
   ]
  }
 ],
 "metadata": {
  "kernelspec": {
   "display_name": "base",
   "language": "python",
   "name": "python3"
  },
  "language_info": {
   "codemirror_mode": {
    "name": "ipython",
    "version": 3
   },
   "file_extension": ".py",
   "mimetype": "text/x-python",
   "name": "python",
   "nbconvert_exporter": "python",
   "pygments_lexer": "ipython3",
   "version": "3.12.7"
  }
 },
 "nbformat": 4,
 "nbformat_minor": 5
}

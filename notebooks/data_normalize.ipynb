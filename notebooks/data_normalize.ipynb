{
 "cells": [
  {
   "cell_type": "code",
   "execution_count": 2,
   "id": "8871a3c6",
   "metadata": {},
   "outputs": [],
   "source": [
    "import pandas as pd\n",
    "import os, re\n",
    "from pathlib import Path\n",
    "\n",
    "\n",
    "def load_data(raw_count_file):\n",
    "    # Raw count matrix\n",
    "    count_data = pd.read_csv(raw_count_file, sep=\"\\t\", header=0)\n",
    "    return count_data\n",
    "\n",
    "\n",
    "def tpm_normalize(count_data):\n",
    "    # Get sample columns\n",
    "    sample_cols = [col for col in count_data.columns if re.match(r\"^\\d+_R\\d+$\", col)]\n",
    "\n",
    "    # Sum each sample column and divide by 1,000,000\n",
    "    sample_totals = count_data[sample_cols].sum().div(1000000)\n",
    "\n",
    "    # Divide each entry by its column total\n",
    "    count_data[sample_cols] = count_data[sample_cols].div(sample_totals)\n",
    "\n",
    "    return count_data\n",
    "\n",
    "\n",
    "input_folder = Path(\"../data/marked\")\n",
    "output_folder = Path(\"../data/datasets_normalized\")\n",
    "output_folder.mkdir(exist_ok=True)\n",
    "\n",
    "for ds in input_folder.glob(\"*.tsv\"):\n",
    "    df = load_data(ds)\n",
    "    df_norm = tpm_normalize(df)\n",
    "\n",
    "    # Save to ../data/datasets_normalized\n",
    "    output_file = f\"{output_folder}/{ds.stem}_tpm.tsv\"\n",
    "    df_norm.to_csv(output_file, sep=\"\\t\", index=False)"
   ]
  }
 ],
 "metadata": {
  "kernelspec": {
   "display_name": "vividVirions",
   "language": "python",
   "name": "python3"
  },
  "language_info": {
   "codemirror_mode": {
    "name": "ipython",
    "version": 3
   },
   "file_extension": ".py",
   "mimetype": "text/x-python",
   "name": "python",
   "nbconvert_exporter": "python",
   "pygments_lexer": "ipython3",
   "version": "3.13.2"
  }
 },
 "nbformat": 4,
 "nbformat_minor": 5
}

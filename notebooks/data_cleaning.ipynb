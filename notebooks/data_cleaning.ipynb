{
 "cells": [
  {
   "cell_type": "code",
   "execution_count": null,
   "id": "8715dcfa",
   "metadata": {},
   "outputs": [
    {
     "name": "stdout",
     "output_type": "stream",
     "text": [
      "7 file found.\n",
      "Saved: Brandao_MCCM_full_raw_counts_tpm_filtered.tsv\n",
      "Saved: Finstrlova_Newman_full_raw_counts_tpm_filtered.tsv\n",
      "Saved: Guegler_T4_minusToxIN_full_raw_counts_tpm_filtered.tsv\n",
      "Saved: Guegler_T7_plusToxIN_full_raw_counts_tpm_filtered.tsv\n",
      "Saved: Lood_full_raw_counts_tpm_filtered.tsv\n",
      "Saved: Sprenger_VC_WT_VP882_delta_cpdS_full_raw_counts_tpm_filtered.tsv\n",
      "Saved: Yang_full_raw_counts_tpm_filtered.tsv\n"
     ]
    }
   ],
   "source": [
    "import pandas as pd\n",
    "from pathlib import Path\n",
    "import os\n",
    "\n",
    "# print current working directory\n",
    "#print(f\"Current working directory: {os.getcwd()}\")\n",
    "# go up one level\n",
    "#os.chdir(\"..\")\n",
    "\n",
    "# input/output folders\n",
    "input_folder = Path(\"data/marked\")\n",
    "output_folder = Path(\"data/filtered\")\n",
    "output_folder.mkdir(parents=True, exist_ok=True)\n",
    "\n",
    "# logfile\n",
    "log_lines = []\n",
    "\n",
    "# find all TSV files in the input folder\n",
    "tsv_files = list(input_folder.glob(\"*_full_raw_counts_tpm_marked.tsv\"))\n",
    "print(f\"{len(tsv_files)} file found.\")\n",
    "\n",
    "for file_path in tsv_files:\n",
    "    try:\n",
    "        df = pd.read_csv(file_path, sep=\"\\t\")\n",
    "\n",
    "        # --- 1. remove outliers ---\n",
    "        original_row_count = len(df)\n",
    "        df = df[df[\"Outlier\"] != 1]\n",
    "        removed_rows = original_row_count - len(df)\n",
    "\n",
    "        # --- 2. filter columns ---\n",
    "        marker_row = df[df[\"Geneid\"] == \"Replicates with missing value\"]\n",
    "        removed_columns = []\n",
    "\n",
    "        if not marker_row.empty:\n",
    "            marker = marker_row.iloc[0]\n",
    "            removed_columns = [col for col in df.columns if marker.get(col, 0) == 1]\n",
    "            df = df[df[\"Geneid\"] != \"Replicates with missing value\"]\n",
    "            df = df.drop(columns=removed_columns)\n",
    "            marker_status = \"Found column marker\"\n",
    "        else:\n",
    "            marker_status = \"No column marker found\"\n",
    "\n",
    "        # safe\n",
    "        output_file = output_folder / file_path.name.replace(\"_marked.tsv\", \"_filtered.tsv\")\n",
    "        df.to_csv(output_file, sep=\"\\t\", index=False)\n",
    "        print(f\"Saved: {output_file.name}\")\n",
    "\n",
    "        # log info\n",
    "        log_lines.append(f\"File: {file_path.name}\")\n",
    "        log_lines.append(f\"- remove outlier rows: {removed_rows}\")\n",
    "        log_lines.append(f\"- {marker_status}\")\n",
    "        if removed_columns:\n",
    "            log_lines.append(f\"- remove columns: {', '.join(removed_columns)}\")\n",
    "        else:\n",
    "            log_lines.append(\"- removed columns: none\")\n",
    "        log_lines.append(\"\") \n",
    "\n",
    "    except Exception as e:\n",
    "        print(f\"Error at {file_path.name}: {e}\")\n",
    "        log_lines.append(f\"File: {file_path.name} – ERROR: {e}\")\n",
    "        log_lines.append(\"\")\n",
    "\n",
    "# save log file\n",
    "log_path = output_folder / \"filter_protocoll.txt\"\n",
    "with open(log_path, \"w\", encoding=\"utf-8\") as log_file:\n",
    "    log_file.write(\"\\n\".join(log_lines))\n"
   ]
  }
 ],
 "metadata": {
  "kernelspec": {
   "display_name": "vividVirions",
   "language": "python",
   "name": "python3"
  },
  "language_info": {
   "name": "python",
   "version": "3.10.16"
  }
 },
 "nbformat": 4,
 "nbformat_minor": 5
}
